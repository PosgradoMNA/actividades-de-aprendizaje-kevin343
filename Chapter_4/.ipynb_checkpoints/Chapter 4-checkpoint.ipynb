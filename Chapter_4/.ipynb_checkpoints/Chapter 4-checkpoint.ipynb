{
 "cells": [
  {
   "cell_type": "markdown",
   "id": "13d8f602",
   "metadata": {},
   "source": [
    "## Chapter  4"
   ]
  },
  {
   "cell_type": "markdown",
   "id": "7a30a7b7",
   "metadata": {},
   "source": [
    "## LAB READING FILES"
   ]
  },
  {
   "cell_type": "code",
   "execution_count": null,
   "id": "c5aedcfd",
   "metadata": {},
   "outputs": [],
   "source": [
    "#REad file:"
   ]
  },
  {
   "cell_type": "code",
   "execution_count": 1,
   "id": "67766bb1",
   "metadata": {},
   "outputs": [],
   "source": [
    "example = \"ejem1.txt\"\n",
    "file = open(example, \"r\")"
   ]
  },
  {
   "cell_type": "code",
   "execution_count": 9,
   "id": "c26777e6",
   "metadata": {
    "scrolled": true
   },
   "outputs": [
    {
     "data": {
      "text/plain": [
       "'Example1.txt'"
      ]
     },
     "execution_count": 9,
     "metadata": {},
     "output_type": "execute_result"
    }
   ],
   "source": [
    "#Nombre del archivo\n",
    "file.name"
   ]
  },
  {
   "cell_type": "code",
   "execution_count": 10,
   "id": "ede4c84a",
   "metadata": {},
   "outputs": [
    {
     "data": {
      "text/plain": [
       "'r'"
      ]
     },
     "execution_count": 10,
     "metadata": {},
     "output_type": "execute_result"
    }
   ],
   "source": [
    "#Tipo de archivo\n",
    "file.mode"
   ]
  },
  {
   "cell_type": "code",
   "execution_count": 12,
   "id": "ac20e2da",
   "metadata": {},
   "outputs": [
    {
     "ename": "ValueError",
     "evalue": "I/O operation on closed file.",
     "output_type": "error",
     "traceback": [
      "\u001b[0;31m---------------------------------------------------------------------------\u001b[0m",
      "\u001b[0;31mValueError\u001b[0m                                Traceback (most recent call last)",
      "Cell \u001b[0;32mIn [12], line 2\u001b[0m\n\u001b[1;32m      1\u001b[0m \u001b[38;5;66;03m#leer archivo\u001b[39;00m\n\u001b[0;32m----> 2\u001b[0m FileContent \u001b[38;5;241m=\u001b[39m \u001b[43mfile\u001b[49m\u001b[38;5;241;43m.\u001b[39;49m\u001b[43mread\u001b[49m\u001b[43m(\u001b[49m\u001b[43m)\u001b[49m\n\u001b[1;32m      3\u001b[0m FileContent\n",
      "\u001b[0;31mValueError\u001b[0m: I/O operation on closed file."
     ]
    }
   ],
   "source": [
    "#leer archivo\n",
    "FileContent = file.read()\n",
    "FileContent"
   ]
  },
  {
   "cell_type": "code",
   "execution_count": 13,
   "id": "315e5189",
   "metadata": {},
   "outputs": [
    {
     "name": "stdout",
     "output_type": "stream",
     "text": [
      "This is line 1 \n",
      "This is line 2\n",
      "This is line 3\n"
     ]
    }
   ],
   "source": [
    "print(FileContent)"
   ]
  },
  {
   "cell_type": "code",
   "execution_count": 14,
   "id": "3c23335a",
   "metadata": {},
   "outputs": [
    {
     "data": {
      "text/plain": [
       "str"
      ]
     },
     "execution_count": 14,
     "metadata": {},
     "output_type": "execute_result"
    }
   ],
   "source": [
    "#que tipo es , int,str o booleano\n",
    "type(FileContent)"
   ]
  },
  {
   "cell_type": "code",
   "execution_count": 15,
   "id": "853c576c",
   "metadata": {},
   "outputs": [],
   "source": [
    "#Cerrar archivo\n",
    "file.close()"
   ]
  },
  {
   "cell_type": "markdown",
   "id": "cb380672",
   "metadata": {},
   "source": [
    "## A better way to open afile"
   ]
  },
  {
   "cell_type": "code",
   "execution_count": 16,
   "id": "88017787",
   "metadata": {},
   "outputs": [
    {
     "name": "stdout",
     "output_type": "stream",
     "text": [
      "This is line 1 \n",
      "This is line 2\n",
      "This is line 3\n"
     ]
    }
   ],
   "source": [
    "#Otra forma de abrir un archivo\n",
    "with open(example, \"r\") as file:\n",
    "    FileContent = file.read()\n",
    "    print(FileContent)"
   ]
  },
  {
   "cell_type": "code",
   "execution_count": 19,
   "id": "6e26e7e5",
   "metadata": {},
   "outputs": [
    {
     "data": {
      "text/plain": [
       "True"
      ]
     },
     "execution_count": 19,
     "metadata": {},
     "output_type": "execute_result"
    }
   ],
   "source": [
    "file.closed"
   ]
  },
  {
   "cell_type": "code",
   "execution_count": 20,
   "id": "edff393c",
   "metadata": {},
   "outputs": [
    {
     "name": "stdout",
     "output_type": "stream",
     "text": [
      "This is line 1 \n",
      "This is line 2\n",
      "This is line 3\n"
     ]
    }
   ],
   "source": [
    "print(FileContent)"
   ]
  },
  {
   "cell_type": "code",
   "execution_count": 22,
   "id": "3363fb3e",
   "metadata": {
    "scrolled": true
   },
   "outputs": [
    {
     "name": "stdout",
     "output_type": "stream",
     "text": [
      "Thi\n"
     ]
    }
   ],
   "source": [
    "# Leer los 4 primeras letras\n",
    "\n",
    "with open(example, \"r\") as file:\n",
    "    print(file.read(3))"
   ]
  },
  {
   "cell_type": "code",
   "execution_count": 24,
   "id": "ca3b440c",
   "metadata": {},
   "outputs": [
    {
     "name": "stdout",
     "output_type": "stream",
     "text": [
      "Thi\n",
      "s i\n",
      "s l\n",
      "ine\n"
     ]
    }
   ],
   "source": [
    "with open(example, \"r\") as file:\n",
    "    print(file.read(3))\n",
    "    print(file.read(3))\n",
    "    print(file.read(3))\n",
    "    print(file.read(3))"
   ]
  },
  {
   "cell_type": "code",
   "execution_count": 22,
   "id": "8074d4a0",
   "metadata": {},
   "outputs": [
    {
     "name": "stdout",
     "output_type": "stream",
     "text": [
      "first line: This is line 1 \n",
      "\n"
     ]
    }
   ],
   "source": [
    "# Leer una fila\n",
    "\n",
    "with open(example, \"r\") as file:\n",
    "    print(\"first line: \" + file.readline())"
   ]
  },
  {
   "cell_type": "code",
   "execution_count": 30,
   "id": "9f1f9ac4",
   "metadata": {},
   "outputs": [
    {
     "name": "stdout",
     "output_type": "stream",
     "text": [
      "This i\n",
      "s line 1 \n",
      "This is li\n"
     ]
    }
   ],
   "source": [
    "with open(example, \"r\") as file:\n",
    "    print(file.readline(6)) # Lee hasta el caracter 6\n",
    "    print(file.read(20)) # \n",
    "    "
   ]
  },
  {
   "cell_type": "code",
   "execution_count": 38,
   "id": "da7054f5",
   "metadata": {},
   "outputs": [
    {
     "name": "stdout",
     "output_type": "stream",
     "text": [
      "Iteration 0 :  This is line 1 \n",
      "\n",
      "Iteration 1 :  This is line 2\n",
      "\n",
      "Iteration 2 :  This is line 3\n"
     ]
    }
   ],
   "source": [
    "# Iterar y agregar string\n",
    "\n",
    "with open(example,\"r\") as file:\n",
    "        i = 0;\n",
    "        for line in file:\n",
    "            print(\"Iteration\", str(i), \": \", line)\n",
    "            i = i + 1"
   ]
  },
  {
   "cell_type": "code",
   "execution_count": 31,
   "id": "78459090",
   "metadata": {},
   "outputs": [],
   "source": [
    "# Leer todas las lineas\n",
    "\n",
    "with open(example, \"r\") as file:\n",
    "    FileasList = file.readlines()"
   ]
  },
  {
   "cell_type": "code",
   "execution_count": 41,
   "id": "29157ea0",
   "metadata": {},
   "outputs": [
    {
     "data": {
      "text/plain": [
       "'This is line 3'"
      ]
     },
     "execution_count": 41,
     "metadata": {},
     "output_type": "execute_result"
    }
   ],
   "source": [
    "# Print the first line\n",
    "\n",
    "FileasList[2]"
   ]
  },
  {
   "cell_type": "markdown",
   "id": "c0714fee",
   "metadata": {},
   "source": [
    "## Write files"
   ]
  },
  {
   "cell_type": "code",
   "execution_count": 47,
   "id": "a107729c",
   "metadata": {},
   "outputs": [],
   "source": [
    "#Agregar una linea al file\n",
    "ejem2 = 'ejemplo2.txt'\n",
    "with open(ejem2,'w') as file_para_escribir:\n",
    "    file_para_escribir.write(\"esta es la linea A\")"
   ]
  },
  {
   "cell_type": "code",
   "execution_count": 44,
   "id": "680b86e0",
   "metadata": {},
   "outputs": [
    {
     "name": "stdout",
     "output_type": "stream",
     "text": [
      "esta es la linea A\n"
     ]
    }
   ],
   "source": [
    "# Leer file\n",
    "with open (ejem2,'r') as testwritefile:\n",
    "    print(testwritefile.read())"
   ]
  },
  {
   "cell_type": "code",
   "execution_count": 51,
   "id": "31e273c7",
   "metadata": {},
   "outputs": [],
   "source": [
    "# Escribir lineas a un  file\n",
    "\n",
    "with open(ejem2, 'w') as writefile:\n",
    "    writefile.write(\"Esta es la linea A\\n\")\n",
    "    writefile.write(\"Esta es la linea B\\n\")"
   ]
  },
  {
   "cell_type": "code",
   "execution_count": 54,
   "id": "708dd9bf",
   "metadata": {},
   "outputs": [
    {
     "name": "stdout",
     "output_type": "stream",
     "text": [
      "Esta es la linea A\n",
      "Esta es la linea B\n",
      "\n"
     ]
    }
   ],
   "source": [
    "with open(ejem2, 'r') as read2:\n",
    "    print(read2.read())"
   ]
  },
  {
   "cell_type": "code",
   "execution_count": 32,
   "id": "116b6c3d",
   "metadata": {},
   "outputs": [
    {
     "data": {
      "text/plain": [
       "['This is line A\\n', 'This is line B\\n', 'This is line C\\n']"
      ]
     },
     "execution_count": 32,
     "metadata": {},
     "output_type": "execute_result"
    }
   ],
   "source": [
    "# Listas de texto\n",
    "\n",
    "Lines = [\"This is line A\\n\", \"This is line B\\n\", \"This is line C\\n\"]\n",
    "Lines\n"
   ]
  },
  {
   "cell_type": "code",
   "execution_count": 36,
   "id": "da606a05",
   "metadata": {},
   "outputs": [
    {
     "name": "stdout",
     "output_type": "stream",
     "text": [
      "This is line A\n",
      "\n",
      "This is line B\n",
      "\n",
      "This is line C\n",
      "\n"
     ]
    }
   ],
   "source": [
    "# Escribir las strings en la lista del texto\n",
    "\n",
    "with open('ejemm2.txt', 'w') as escr2:\n",
    "    for x in Lines:\n",
    "        print(x)\n",
    "        escr2.write(x)"
   ]
  },
  {
   "cell_type": "code",
   "execution_count": 37,
   "id": "19dcc549",
   "metadata": {},
   "outputs": [
    {
     "name": "stdout",
     "output_type": "stream",
     "text": [
      "This is line A\n",
      "This is line B\n",
      "This is line C\n",
      "\n"
     ]
    }
   ],
   "source": [
    "# Verificacion\n",
    "with open('ejemm2.txt', 'r') as twf:\n",
    "    print(twf.read())"
   ]
  },
  {
   "cell_type": "markdown",
   "id": "6f16ff75",
   "metadata": {},
   "source": [
    "## Appending"
   ]
  },
  {
   "cell_type": "code",
   "execution_count": 64,
   "id": "576c42e4",
   "metadata": {},
   "outputs": [],
   "source": [
    "# Escribir un nuevo text file\n",
    "\n",
    "with open('ejemm2.txt', 'a') as testwritefile:\n",
    "    testwritefile.write(\"This is line C\\n\")\n",
    "    testwritefile.write(\"This is line D\\n\")\n",
    "    testwritefile.write(\"This is line E\\n\")"
   ]
  },
  {
   "cell_type": "code",
   "execution_count": 66,
   "id": "bc81a901",
   "metadata": {},
   "outputs": [
    {
     "name": "stdout",
     "output_type": "stream",
     "text": [
      "This is line C\n",
      "This is line C\n",
      "This is line C\n",
      "This is line C\n",
      "This is line D\n",
      "This is line E\n",
      "This is line C\n",
      "This is line D\n",
      "This is line E\n",
      "\n"
     ]
    }
   ],
   "source": [
    "# Verificar lo agregado\n",
    "with open('ejemm2.txt', 'r') as testwritefile:\n",
    "    print(testwritefile.read())"
   ]
  },
  {
   "cell_type": "code",
   "execution_count": 68,
   "id": "1172d84d",
   "metadata": {},
   "outputs": [
    {
     "name": "stdout",
     "output_type": "stream",
     "text": [
      "Initial Location: 135\n",
      "Read nothing\n",
      "\n",
      "New Location : 0\n",
      "This is line C\n",
      "This is line C\n",
      "This is line C\n",
      "This is line C\n",
      "This is line D\n",
      "This is line E\n",
      "This is line C\n",
      "This is line D\n",
      "This is line E\n",
      "\n",
      "Location after read: 135\n"
     ]
    }
   ],
   "source": [
    "## Additional modes\n",
    "\n",
    "with open('ejemm2.txt', 'a+') as testwritefile:\n",
    "    print(\"Initial Location: {}\".format(testwritefile.tell()))\n",
    "    \n",
    "    data = testwritefile.read()\n",
    "    if (not data):  #empty strings return false in python\n",
    "            print('Read nothing') \n",
    "    else: \n",
    "            print(testwritefile.read())\n",
    "            \n",
    "    testwritefile.seek(0,0) # move 0 bytes from beginning.\n",
    "    \n",
    "    print(\"\\nNew Location : {}\".format(testwritefile.tell()))\n",
    "    data = testwritefile.read()\n",
    "    if (not data): \n",
    "            print('Read nothing') \n",
    "    else: \n",
    "            print(data)\n",
    "    \n",
    "    print(\"Location after read: {}\".format(testwritefile.tell()) )"
   ]
  },
  {
   "cell_type": "code",
   "execution_count": 70,
   "id": "e8f97a30",
   "metadata": {},
   "outputs": [
    {
     "name": "stdout",
     "output_type": "stream",
     "text": [
      "Line 1\n",
      "Line 2\n",
      "Line 3\n",
      "finished\n",
      "\n"
     ]
    }
   ],
   "source": [
    "with open('ejemm2.txt', 'r+') as testwritefile:\n",
    "    data = testwritefile.readlines()\n",
    "    testwritefile.seek(0,0) #write at beginning of file\n",
    "   \n",
    "    testwritefile.write(\"Line 1\" + \"\\n\")\n",
    "    testwritefile.write(\"Line 2\" + \"\\n\")\n",
    "    testwritefile.write(\"Line 3\" + \"\\n\")\n",
    "    testwritefile.write(\"finished\\n\")\n",
    "    #Uncomment the line below\n",
    "    testwritefile.truncate()\n",
    "    testwritefile.seek(0,0)\n",
    "    print(testwritefile.read())"
   ]
  },
  {
   "cell_type": "markdown",
   "id": "e58249d5",
   "metadata": {},
   "source": [
    "# Copy a file"
   ]
  },
  {
   "cell_type": "code",
   "execution_count": 38,
   "id": "83c4f16c",
   "metadata": {},
   "outputs": [],
   "source": [
    "# Copiar un file a otro\n",
    "\n",
    "with open('ejemm2.txt','r') as readfile:\n",
    "    with open('Example3.txt','w') as writefile:\n",
    "          for line in readfile:\n",
    "                writefile.write(line)"
   ]
  },
  {
   "cell_type": "code",
   "execution_count": 39,
   "id": "b1372c05",
   "metadata": {},
   "outputs": [
    {
     "name": "stdout",
     "output_type": "stream",
     "text": [
      "This is line A\n",
      "This is line B\n",
      "This is line C\n",
      "\n"
     ]
    }
   ],
   "source": [
    "# Verificar la copia \n",
    "\n",
    "with open('Example3.txt','r') as testwritefile:\n",
    "    print(testwritefile.read())"
   ]
  },
  {
   "cell_type": "markdown",
   "id": "9aa83514",
   "metadata": {},
   "source": [
    "# Loading Data with Pandas"
   ]
  },
  {
   "cell_type": "code",
   "execution_count": 75,
   "id": "c81f74cd",
   "metadata": {},
   "outputs": [],
   "source": [
    "#Q1 Consider the dataframe df. How would you find the element in the second row and first column?\n",
    "\n",
    "#Resp : df.ix[1,0] or df.iloc[1,0]\n"
   ]
  },
  {
   "cell_type": "code",
   "execution_count": 78,
   "id": "251cb626",
   "metadata": {},
   "outputs": [],
   "source": [
    "#Q2# Will the following code run?\n",
    "#import pandas as banana\n",
    "\n",
    "#df=banana.DataFrame({'a':[11,21,31],'b':[21,22,23]})\n",
    "\n",
    "#df.head()\n",
    "\n",
    "#Resp : YES"
   ]
  },
  {
   "cell_type": "markdown",
   "id": "cf58508f",
   "metadata": {},
   "source": [
    "## Working with and Saving Data with Pandas"
   ]
  },
  {
   "cell_type": "code",
   "execution_count": 81,
   "id": "b6dd0e36",
   "metadata": {},
   "outputs": [],
   "source": [
    "#Q1 What type does the following return: df['a']==1 ?\n",
    "#df=pd.DataFrame({'a':[1,2,1],'b':[1,1,1]})\n",
    "\n",
    "#RESP : bool"
   ]
  },
  {
   "cell_type": "code",
   "execution_count": null,
   "id": "3a127812",
   "metadata": {},
   "outputs": [],
   "source": [
    "#Q2 What task does the following method perform: df.to_csv(\"file.csv\")?\n",
    "\n",
    "# RESP : Save a dataframe to a csv file."
   ]
  },
  {
   "cell_type": "markdown",
   "id": "e039d107",
   "metadata": {},
   "source": [
    "### Review Questions\n"
   ]
  },
  {
   "cell_type": "code",
   "execution_count": 83,
   "id": "1b136d6b",
   "metadata": {},
   "outputs": [],
   "source": [
    "#Q1 What do the following lines of code do?\n",
    "\n",
    "# with open(\"Example1.txt\",\"r\") as file1:\n",
    "\n",
    "# FileContent=file1.readlines()\n",
    "\n",
    "# print(FileContent)\n",
    "\n",
    "# RESP :  Read the file \"Example1.txt\"."
   ]
  },
  {
   "cell_type": "code",
   "execution_count": null,
   "id": "28bd8bfc",
   "metadata": {},
   "outputs": [],
   "source": [
    "#Q2 What do the following lines of code do?\n",
    "\n",
    "# with open(\"Example2.txt\",\"w\") as writefile:\n",
    "\n",
    "# writefile.write(\"This is line A\\n\")\n",
    "\n",
    "# writefile.write(\"This is line B\\n\")\n",
    "\n",
    "#RESP : Write to the file \"Example2.txt\".\n"
   ]
  },
  {
   "cell_type": "code",
   "execution_count": null,
   "id": "4a39b2a3",
   "metadata": {},
   "outputs": [],
   "source": [
    "#Q3 What do the following lines of code do?\n",
    "\n",
    "# with open(\"Example3.txt\",\"a\") as file1:\n",
    "\n",
    "# file1.write(\"This is line C\\n\")\n",
    "\n",
    "#RESP : Append the file \"Example3.txt\"."
   ]
  },
  {
   "cell_type": "code",
   "execution_count": null,
   "id": "998eb989",
   "metadata": {},
   "outputs": [],
   "source": [
    "#Q What is the result of applying the following method df.head() to the dataframe \"df\"?\n",
    "#RESP : Prints the first 5 rows of the dataframe."
   ]
  }
 ],
 "metadata": {
  "kernelspec": {
   "display_name": "Python 3 (ipykernel)",
   "language": "python",
   "name": "python3"
  },
  "language_info": {
   "codemirror_mode": {
    "name": "ipython",
    "version": 3
   },
   "file_extension": ".py",
   "mimetype": "text/x-python",
   "name": "python",
   "nbconvert_exporter": "python",
   "pygments_lexer": "ipython3",
   "version": "3.10.4"
  }
 },
 "nbformat": 4,
 "nbformat_minor": 5
}

{
 "cells": [
  {
   "cell_type": "markdown",
   "id": "e752c811",
   "metadata": {},
   "source": [
    "## Semana 3: Python for Data Science (IBM)  Chapter 5\n",
    "\n",
    "## Profesor : Jobish Vallikavungal Devassia\n",
    "\n",
    "## Materia   : Ciencia y analítica de datos\n",
    "\n",
    "### Kevin Alejandro Garcia Escalante                                    A01376680\n",
    "\n",
    "\n",
    "### Fecha : 4 de Octubre de 2022 \n",
    "\n",
    "-------------------------------------------------"
   ]
  },
  {
   "cell_type": "markdown",
   "id": "09051d31",
   "metadata": {},
   "source": [
    "## Numpy 1D Arrays\n",
    "\n"
   ]
  },
  {
   "cell_type": "markdown",
   "id": "9473fdb6",
   "metadata": {},
   "source": [
    "##### Q1 What is the result of the following operation: np.array([1,-1])*np.array([1,1])?\n"
   ]
  },
  {
   "cell_type": "code",
   "execution_count": 5,
   "id": "88359ebe",
   "metadata": {},
   "outputs": [],
   "source": [
    "import numpy as np"
   ]
  },
  {
   "cell_type": "code",
   "execution_count": 6,
   "id": "f05113e2",
   "metadata": {},
   "outputs": [
    {
     "data": {
      "text/plain": [
       "array([ 1, -1])"
      ]
     },
     "execution_count": 6,
     "metadata": {},
     "output_type": "execute_result"
    }
   ],
   "source": [
    "\n",
    "np.array([1,-1])*np.array([1,1])"
   ]
  },
  {
   "cell_type": "code",
   "execution_count": null,
   "id": "557482ed",
   "metadata": {},
   "outputs": [],
   "source": [
    "#RESP : array([ 1, -1])"
   ]
  },
  {
   "cell_type": "markdown",
   "id": "d3ef4f69",
   "metadata": {},
   "source": [
    "##### Q2 What is the result of the following operation: np.dot(np.array([1,-1]),np.array([1,1]))?"
   ]
  },
  {
   "cell_type": "code",
   "execution_count": 7,
   "id": "4754c5a0",
   "metadata": {},
   "outputs": [
    {
     "data": {
      "text/plain": [
       "0"
      ]
     },
     "execution_count": 7,
     "metadata": {},
     "output_type": "execute_result"
    }
   ],
   "source": [
    "np.dot(np.array([1,-1]),np.array([1,1]))"
   ]
  },
  {
   "cell_type": "code",
   "execution_count": 8,
   "id": "c0d99b22",
   "metadata": {},
   "outputs": [],
   "source": [
    "#RESP : 0"
   ]
  },
  {
   "cell_type": "markdown",
   "id": "e8996ed3",
   "metadata": {},
   "source": [
    "### Lab - Working with 1D Numpy Arrays"
   ]
  },
  {
   "cell_type": "code",
   "execution_count": 9,
   "id": "4df28dfe",
   "metadata": {},
   "outputs": [
    {
     "data": {
      "text/plain": [
       "array([1, 2, 3, 4])"
      ]
     },
     "execution_count": 9,
     "metadata": {},
     "output_type": "execute_result"
    }
   ],
   "source": [
    "# Hacer un array\n",
    "\n",
    "array = np.array([ 1, 2, 3, 4])\n",
    "array"
   ]
  },
  {
   "cell_type": "code",
   "execution_count": 11,
   "id": "bb344a11",
   "metadata": {},
   "outputs": [
    {
     "name": "stdout",
     "output_type": "stream",
     "text": [
      "array[0]: 1\n",
      "array[1]: 2\n",
      "array[2]: 3\n"
     ]
    }
   ],
   "source": [
    "print(\"array[0]:\", array[0])\n",
    "print(\"array[1]:\", array[1])\n",
    "print(\"array[2]:\", array[2])"
   ]
  },
  {
   "cell_type": "code",
   "execution_count": 13,
   "id": "8dd11146",
   "metadata": {
    "scrolled": true
   },
   "outputs": [
    {
     "name": "stdout",
     "output_type": "stream",
     "text": [
      "1.21.5\n"
     ]
    }
   ],
   "source": [
    "print(np.__version__) # la aversion de numpy"
   ]
  },
  {
   "cell_type": "code",
   "execution_count": 21,
   "id": "fa28fa86",
   "metadata": {},
   "outputs": [],
   "source": [
    "#Slicing\n",
    "\n",
    "# Imprimir los pares \n",
    "\n",
    "a = np.array([1, 2, 3, 4, 5, 6, 7, 8])\n",
    "\n"
   ]
  },
  {
   "cell_type": "code",
   "execution_count": 22,
   "id": "a76caa8e",
   "metadata": {},
   "outputs": [
    {
     "name": "stdout",
     "output_type": "stream",
     "text": [
      "[2 4 6 8]\n"
     ]
    }
   ],
   "source": [
    "print(arr[1:8:2])"
   ]
  },
  {
   "cell_type": "code",
   "execution_count": 23,
   "id": "dfc64ac9",
   "metadata": {},
   "outputs": [],
   "source": [
    "\n",
    "# Encontrar el tamaño de la lista"
   ]
  },
  {
   "cell_type": "code",
   "execution_count": 24,
   "id": "ad4c2c6d",
   "metadata": {},
   "outputs": [],
   "source": [
    "b = np.array([10, 20, 30, 40, 50, 60, 70])"
   ]
  },
  {
   "cell_type": "code",
   "execution_count": 25,
   "id": "064ad88d",
   "metadata": {},
   "outputs": [
    {
     "data": {
      "text/plain": [
       "(7,)"
      ]
     },
     "execution_count": 25,
     "metadata": {},
     "output_type": "execute_result"
    }
   ],
   "source": [
    "b.size\n",
    "\n",
    "b.ndim\n",
    "\n",
    "b.shape"
   ]
  },
  {
   "cell_type": "code",
   "execution_count": 26,
   "id": "999c6456",
   "metadata": {},
   "outputs": [],
   "source": [
    "#Encontrar la sum a de maximo y minimno valor enb un arreglo numpy \n",
    "c = np.array([-10, 201, 43, 94, 502])"
   ]
  },
  {
   "cell_type": "code",
   "execution_count": 27,
   "id": "aed9befd",
   "metadata": {},
   "outputs": [
    {
     "data": {
      "text/plain": [
       "492"
      ]
     },
     "execution_count": 27,
     "metadata": {},
     "output_type": "execute_result"
    }
   ],
   "source": [
    "max_c = c.max()\n",
    "max_c\n",
    "    \n",
    "min_c = c.min()\n",
    "min_c\n",
    "    \n",
    "    \n",
    "Sum = (max_c +min_c)\n",
    "Sum\n"
   ]
  },
  {
   "cell_type": "code",
   "execution_count": 29,
   "id": "bc17a309",
   "metadata": {},
   "outputs": [],
   "source": [
    "#Hacer una operacion de suma entre arreglos\n",
    "arr1 = np.array([10, 11, 12, 13, 14, 15])\n",
    "arr2 = np.array([20, 21, 22, 23, 24, 25])\n"
   ]
  },
  {
   "cell_type": "code",
   "execution_count": 30,
   "id": "23a4e1d1",
   "metadata": {},
   "outputs": [
    {
     "data": {
      "text/plain": [
       "array([30, 32, 34, 36, 38, 40])"
      ]
     },
     "execution_count": 30,
     "metadata": {},
     "output_type": "execute_result"
    }
   ],
   "source": [
    "arr3 = np.add(arr1, arr2)\n",
    "arr3"
   ]
  },
  {
   "cell_type": "code",
   "execution_count": 31,
   "id": "530d58ba",
   "metadata": {},
   "outputs": [],
   "source": [
    "#Hacer una operacion de multiplicacion de arreglos\n",
    "arr1 = np.array([10, 20, 30, 40, 50, 60])\n",
    "arr2 = np.array([2, 1, 2, 3, 4, 5])"
   ]
  },
  {
   "cell_type": "code",
   "execution_count": 32,
   "id": "eda93599",
   "metadata": {},
   "outputs": [
    {
     "data": {
      "text/plain": [
       "array([ 20,  20,  60, 120, 200, 300])"
      ]
     },
     "execution_count": 32,
     "metadata": {},
     "output_type": "execute_result"
    }
   ],
   "source": [
    "arr3 = np.multiply(arr1, arr2)\n",
    "arr3\n"
   ]
  },
  {
   "cell_type": "code",
   "execution_count": 33,
   "id": "021791a6",
   "metadata": {},
   "outputs": [],
   "source": [
    "#Hacer una operación de división de arreglos\n",
    "arr1 = np.array([10, 20, 30, 40, 50, 60])\n",
    "arr2 = np.array([3, 5, 10, 8, 2, 33])\n"
   ]
  },
  {
   "cell_type": "code",
   "execution_count": 34,
   "id": "893f3b92",
   "metadata": {},
   "outputs": [
    {
     "data": {
      "text/plain": [
       "array([ 3.33333333,  4.        ,  3.        ,  5.        , 25.        ,\n",
       "        1.81818182])"
      ]
     },
     "execution_count": 34,
     "metadata": {},
     "output_type": "execute_result"
    }
   ],
   "source": [
    "arr3 = np.divide(arr1, arr2)\n",
    "arr3"
   ]
  },
  {
   "cell_type": "markdown",
   "id": "bc78c446",
   "metadata": {},
   "source": [
    "## Numpy 2D Arrays"
   ]
  },
  {
   "cell_type": "code",
   "execution_count": 35,
   "id": "819f9996",
   "metadata": {},
   "outputs": [],
   "source": [
    "#Q1 How many rows are in the following numpy array?"
   ]
  },
  {
   "cell_type": "code",
   "execution_count": 37,
   "id": "160deb75",
   "metadata": {},
   "outputs": [],
   "source": [
    "A = np.array([[1,2],[3,4],[5,6],[7,8]])"
   ]
  },
  {
   "cell_type": "code",
   "execution_count": 38,
   "id": "bc008b4f",
   "metadata": {},
   "outputs": [
    {
     "data": {
      "text/plain": [
       "array([[1, 2],\n",
       "       [3, 4],\n",
       "       [5, 6],\n",
       "       [7, 8]])"
      ]
     },
     "execution_count": 38,
     "metadata": {},
     "output_type": "execute_result"
    }
   ],
   "source": [
    "A"
   ]
  },
  {
   "cell_type": "code",
   "execution_count": null,
   "id": "8cbb5e98",
   "metadata": {},
   "outputs": [],
   "source": [
    "#RESP: 4"
   ]
  },
  {
   "cell_type": "code",
   "execution_count": null,
   "id": "eeb85078",
   "metadata": {},
   "outputs": [],
   "source": [
    "#Q2 Is it possible to perform the following operation?"
   ]
  },
  {
   "cell_type": "code",
   "execution_count": 43,
   "id": "1050e61e",
   "metadata": {},
   "outputs": [],
   "source": [
    "#A = np.array([[1,2],[3,4],[5,6],[7,8]])\n",
    "\n",
    "#B = np.array([[1,2,3],[4,5,6],[7,8,9]])\n",
    "#np.dot(A,B)"
   ]
  },
  {
   "cell_type": "code",
   "execution_count": 42,
   "id": "1d1d4ed6",
   "metadata": {},
   "outputs": [],
   "source": [
    "#RESP : No"
   ]
  },
  {
   "cell_type": "markdown",
   "id": "766e9eb9",
   "metadata": {},
   "source": [
    "### Lab - Working with 2D Numpy Arrays"
   ]
  },
  {
   "cell_type": "code",
   "execution_count": 46,
   "id": "45346031",
   "metadata": {},
   "outputs": [],
   "source": [
    "# Crear un numpy array 2D\n",
    "\n",
    "a = [[1, 2, 3, 4], [5, 6, 7, 8], [9, 10, 11, 12]]"
   ]
  },
  {
   "cell_type": "code",
   "execution_count": 47,
   "id": "d1f9d774",
   "metadata": {},
   "outputs": [
    {
     "data": {
      "text/plain": [
       "array([[ 1,  2,  3,  4],\n",
       "       [ 5,  6,  7,  8],\n",
       "       [ 9, 10, 11, 12]])"
      ]
     },
     "execution_count": 47,
     "metadata": {},
     "output_type": "execute_result"
    }
   ],
   "source": [
    "A = np.array(a)\n",
    "A"
   ]
  },
  {
   "cell_type": "code",
   "execution_count": 48,
   "id": "3de8c488",
   "metadata": {},
   "outputs": [
    {
     "data": {
      "text/plain": [
       "12"
      ]
     },
     "execution_count": 48,
     "metadata": {},
     "output_type": "execute_result"
    }
   ],
   "source": [
    "#Calculate size\n",
    "A.size"
   ]
  },
  {
   "cell_type": "code",
   "execution_count": 50,
   "id": "f22824a9",
   "metadata": {},
   "outputs": [
    {
     "data": {
      "text/plain": [
       "array([1, 2])"
      ]
     },
     "execution_count": 50,
     "metadata": {},
     "output_type": "execute_result"
    }
   ],
   "source": [
    "#Acceder al elemento de la primera fila con la primera y segunda columna\n",
    "A[0][0:2]"
   ]
  },
  {
   "cell_type": "code",
   "execution_count": 51,
   "id": "e21d5930",
   "metadata": {},
   "outputs": [],
   "source": [
    "#Hacer un amultiplicacion de matrices\n",
    "B = np.array([[0, 1], [1, 0], [1, 1], [-1, 0]])"
   ]
  },
  {
   "cell_type": "code",
   "execution_count": 52,
   "id": "1ece0723",
   "metadata": {},
   "outputs": [
    {
     "data": {
      "text/plain": [
       "array([[ 1,  4],\n",
       "       [ 5, 12],\n",
       "       [ 9, 20]])"
      ]
     },
     "execution_count": 52,
     "metadata": {},
     "output_type": "execute_result"
    }
   ],
   "source": [
    "X = np.dot(A,B)\n",
    "X"
   ]
  },
  {
   "cell_type": "markdown",
   "id": "82e2ffe6",
   "metadata": {},
   "source": [
    "### Lab - API"
   ]
  },
  {
   "cell_type": "code",
   "execution_count": 66,
   "id": "464d5c87",
   "metadata": {},
   "outputs": [],
   "source": [
    "import pandas as pd"
   ]
  },
  {
   "cell_type": "code",
   "execution_count": 60,
   "id": "d73315fd",
   "metadata": {},
   "outputs": [],
   "source": [
    "# Carga data con URL\n",
    "data2 = requests.get(\"https://www.fishwatch.gov/api/species\")"
   ]
  },
  {
   "cell_type": "code",
   "execution_count": 68,
   "id": "7a28f77c",
   "metadata": {},
   "outputs": [],
   "source": [
    "# Recuperar resultados con json.loads()\n",
    "results2 = json.loads(data2.text)\n"
   ]
  },
  {
   "cell_type": "code",
   "execution_count": 67,
   "id": "5c728ad2",
   "metadata": {},
   "outputs": [
    {
     "data": {
      "text/html": [
       "<div>\n",
       "<style scoped>\n",
       "    .dataframe tbody tr th:only-of-type {\n",
       "        vertical-align: middle;\n",
       "    }\n",
       "\n",
       "    .dataframe tbody tr th {\n",
       "        vertical-align: top;\n",
       "    }\n",
       "\n",
       "    .dataframe thead th {\n",
       "        text-align: right;\n",
       "    }\n",
       "</style>\n",
       "<table border=\"1\" class=\"dataframe\">\n",
       "  <thead>\n",
       "    <tr style=\"text-align: right;\">\n",
       "      <th></th>\n",
       "      <th>Fishery Management</th>\n",
       "      <th>Habitat</th>\n",
       "      <th>Habitat Impacts</th>\n",
       "      <th>Image Gallery</th>\n",
       "      <th>Location</th>\n",
       "      <th>Management</th>\n",
       "      <th>NOAA Fisheries Region</th>\n",
       "      <th>Population</th>\n",
       "      <th>Population Status</th>\n",
       "      <th>Scientific Name</th>\n",
       "      <th>...</th>\n",
       "      <th>Selenium</th>\n",
       "      <th>Serving Weight</th>\n",
       "      <th>Servings</th>\n",
       "      <th>Sodium</th>\n",
       "      <th>Source</th>\n",
       "      <th>Sugars, Total</th>\n",
       "      <th>Taste</th>\n",
       "      <th>Texture</th>\n",
       "      <th>Path</th>\n",
       "      <th>last_update</th>\n",
       "    </tr>\n",
       "  </thead>\n",
       "  <tbody>\n",
       "    <tr>\n",
       "      <th>0</th>\n",
       "      <td>&lt;ul&gt;\\n&lt;li&gt;&lt;a href=\"https://www.fisheries.noaa....</td>\n",
       "      <td>None</td>\n",
       "      <td>Bottomfish fishing operations, typically using...</td>\n",
       "      <td>[{'src': 'https://origin-east-01-drupal-fishwa...</td>\n",
       "      <td>&lt;ul&gt;\\n&lt;li&gt;Crimson jobfish are distributed thro...</td>\n",
       "      <td>None</td>\n",
       "      <td>Pacific Islands</td>\n",
       "      <td>The population level is unknown, but the stock...</td>\n",
       "      <td>&lt;ul&gt;\\n&lt;li&gt;There are five stocks of crimson job...</td>\n",
       "      <td>Pristipomoides filamentosus</td>\n",
       "      <td>...</td>\n",
       "      <td>38.2 mcg</td>\n",
       "      <td>100 g (raw)</td>\n",
       "      <td>1</td>\n",
       "      <td>64 mg</td>\n",
       "      <td>&lt;p&gt;U.S -wild caught around Hawaii and Pacific ...</td>\n",
       "      <td>0 g</td>\n",
       "      <td>&lt;p&gt;Crimson jobfish has a delicate flavor.&lt;/p&gt;\\n</td>\n",
       "      <td>&lt;p&gt;Crimson jobfish has&amp;nbsp;a firm texture and...</td>\n",
       "      <td>/profiles/crimson-jobfish</td>\n",
       "      <td>06/21/2022 - 12:00</td>\n",
       "    </tr>\n",
       "    <tr>\n",
       "      <th>1</th>\n",
       "      <td>&lt;ul&gt;\\n&lt;li&gt;&lt;a href=\"https://www.fisheries.noaa....</td>\n",
       "      <td>&lt;ul&gt;\\n&lt;li&gt;White hake are groundfish, meaning t...</td>\n",
       "      <td>Area closures and gear restrictions protect ha...</td>\n",
       "      <td>[{'src': 'https://origin-east-01-drupal-fishwa...</td>\n",
       "      <td>&lt;ul&gt;\\n&lt;li&gt;White hake are found in the northwes...</td>\n",
       "      <td>None</td>\n",
       "      <td>Greater Atlantic</td>\n",
       "      <td>Significantly below target population level. A...</td>\n",
       "      <td>&lt;ul&gt;\\n&lt;li&gt;According to the 2019 stock assessme...</td>\n",
       "      <td>Urophycis tenuis</td>\n",
       "      <td>...</td>\n",
       "      <td>32.1 mcg</td>\n",
       "      <td>100 g (raw)</td>\n",
       "      <td>1</td>\n",
       "      <td>72 mg</td>\n",
       "      <td>&lt;p&gt;White hake is wild-caught from Maine to sou...</td>\n",
       "      <td>0 g</td>\n",
       "      <td>&lt;p&gt;White hake has a mild, almost sweet&amp;nbsp;ta...</td>\n",
       "      <td>&lt;p&gt;White hake has a soft, delicate texture tha...</td>\n",
       "      <td>/profiles/white-hake</td>\n",
       "      <td>03/24/2022 - 10:36</td>\n",
       "    </tr>\n",
       "    <tr>\n",
       "      <th>2</th>\n",
       "      <td>&lt;ul&gt;\\n&lt;li&gt;\\n&lt;p&gt;&lt;a href=\"https://archive.fisher...</td>\n",
       "      <td>&lt;ul&gt;\\n&lt;li&gt;Atlantic chub mackerel are a schooli...</td>\n",
       "      <td>Area closures and gear restrictions protect ha...</td>\n",
       "      <td>[{'src': 'https://origin-east-01-drupal-fishwa...</td>\n",
       "      <td>&lt;ul&gt;\\n&lt;li&gt;Atlantic chub mackerel in the wester...</td>\n",
       "      <td>None</td>\n",
       "      <td>Greater Atlantic</td>\n",
       "      <td>The stock has never been assessed. The popula...</td>\n",
       "      <td>&lt;p&gt;Atlantic chub mackerel has never been asses...</td>\n",
       "      <td>Scomber colias</td>\n",
       "      <td>...</td>\n",
       "      <td>44.1 mcg</td>\n",
       "      <td>100 g (raw)</td>\n",
       "      <td>1</td>\n",
       "      <td>90 mg</td>\n",
       "      <td>&lt;p&gt;U.S. wild caught from Southern New England ...</td>\n",
       "      <td>0 g</td>\n",
       "      <td>&lt;p&gt;Rich, pronounced flavor.&lt;/p&gt;\\n</td>\n",
       "      <td>&lt;p&gt;Soft, flaky, and moist.&lt;/p&gt;\\n</td>\n",
       "      <td>/profiles/atlantic-chub-mackerel</td>\n",
       "      <td>08/11/2022 - 16:16</td>\n",
       "    </tr>\n",
       "    <tr>\n",
       "      <th>3</th>\n",
       "      <td>&lt;ul&gt;\\n&lt;li&gt;&lt;a href=\"https://www.fisheries.noaa....</td>\n",
       "      <td>&lt;ul&gt;\\n&lt;li&gt;Shortfin squid live in deep and shal...</td>\n",
       "      <td>Fishing gears used to harvest shortfin squid h...</td>\n",
       "      <td>None</td>\n",
       "      <td>&lt;ul&gt;\\n&lt;li&gt;Shortfin squid inhabits the continen...</td>\n",
       "      <td>None</td>\n",
       "      <td>Greater Atlantic</td>\n",
       "      <td>The population level is unknown. The species h...</td>\n",
       "      <td>&lt;ul&gt;\\n&lt;li&gt;According to the latest assessment (...</td>\n",
       "      <td>Illex illecebrosus</td>\n",
       "      <td>...</td>\n",
       "      <td>44.8 mcg</td>\n",
       "      <td>100 g</td>\n",
       "      <td>1</td>\n",
       "      <td>44 mg</td>\n",
       "      <td>&lt;p&gt;U.S. wild-caught from Maine to North Caroli...</td>\n",
       "      <td>0 g</td>\n",
       "      <td>&lt;p&gt;Mild, and subtly sweet.&lt;/p&gt;\\n&lt;p&gt;&amp;nbsp;&lt;/p&gt;\\n</td>\n",
       "      <td>&lt;p&gt;Firm and meaty.&lt;/p&gt;\\n</td>\n",
       "      <td>/profiles/shortfin-squid</td>\n",
       "      <td>09/02/2022 - 11:08</td>\n",
       "    </tr>\n",
       "    <tr>\n",
       "      <th>4</th>\n",
       "      <td>&lt;ul&gt;\\n&lt;li&gt;The states and &lt;a href=\"https://www....</td>\n",
       "      <td>&lt;ul&gt;\\n&lt;li&gt;American lobsters live on the ocean ...</td>\n",
       "      <td>Fishing gears used to harvest American lobster...</td>\n",
       "      <td>[{'src': 'https://origin-east-01-drupal-fishwa...</td>\n",
       "      <td>&lt;ul&gt;\\n&lt;li&gt;American lobsters are found in the n...</td>\n",
       "      <td>None</td>\n",
       "      <td>Greater Atlantic</td>\n",
       "      <td>Above target population levels in the Gulf of ...</td>\n",
       "      <td>&lt;ul&gt;\\n&lt;li&gt;According to the 2020&amp;nbsp;&lt;a href=\"...</td>\n",
       "      <td>Homarus americanus</td>\n",
       "      <td>...</td>\n",
       "      <td>41.4 mcg</td>\n",
       "      <td>100 g (raw)</td>\n",
       "      <td>1</td>\n",
       "      <td>296 mg</td>\n",
       "      <td>&lt;p&gt;U.S. wild-caught from Maine to North Caroli...</td>\n",
       "      <td>0 g</td>\n",
       "      <td>&lt;p&gt;Mild and sweet.&lt;/p&gt;\\n</td>\n",
       "      <td>&lt;p&gt;The meat is firm and somewhat fibrous. The ...</td>\n",
       "      <td>/profiles/american-lobster</td>\n",
       "      <td>01/07/2022 - 10:44</td>\n",
       "    </tr>\n",
       "    <tr>\n",
       "      <th>...</th>\n",
       "      <td>...</td>\n",
       "      <td>...</td>\n",
       "      <td>...</td>\n",
       "      <td>...</td>\n",
       "      <td>...</td>\n",
       "      <td>...</td>\n",
       "      <td>...</td>\n",
       "      <td>...</td>\n",
       "      <td>...</td>\n",
       "      <td>...</td>\n",
       "      <td>...</td>\n",
       "      <td>...</td>\n",
       "      <td>...</td>\n",
       "      <td>...</td>\n",
       "      <td>...</td>\n",
       "      <td>...</td>\n",
       "      <td>...</td>\n",
       "      <td>...</td>\n",
       "      <td>...</td>\n",
       "      <td>...</td>\n",
       "      <td>...</td>\n",
       "    </tr>\n",
       "    <tr>\n",
       "      <th>111</th>\n",
       "      <td>&lt;ul&gt;\\n&lt;li&gt;&lt;a href=\"https://www.fisheries.noaa....</td>\n",
       "      <td>&lt;ul&gt;\\n&lt;li&gt;Younger pollock live in the mid-wate...</td>\n",
       "      <td>The Alaska pollock fishery uses midwater trawl...</td>\n",
       "      <td>[{'src': 'https://origin-east-01-drupal-fishwa...</td>\n",
       "      <td>&lt;ul&gt;\\n&lt;li&gt;Alaska pollock are found throughout ...</td>\n",
       "      <td>None</td>\n",
       "      <td>Alaska</td>\n",
       "      <td>Above target population levels for the Aleutia...</td>\n",
       "      <td>&lt;ul&gt;\\n&lt;li&gt;There are five stocks of walleye pol...</td>\n",
       "      <td>Gadus chalcogrammus</td>\n",
       "      <td>...</td>\n",
       "      <td>21.9 mcg</td>\n",
       "      <td>100 g (raw)</td>\n",
       "      <td>1</td>\n",
       "      <td>99 mg</td>\n",
       "      <td>&lt;p&gt;U.S. wild-caught, mainly in the Bering Sea ...</td>\n",
       "      <td>0 g</td>\n",
       "      <td>&lt;p&gt;Pollock has mild-tasting flesh and is simil...</td>\n",
       "      <td>&lt;p&gt;Pollock has a relatively fine texture and i...</td>\n",
       "      <td>/profiles/alaska-pollock</td>\n",
       "      <td>08/24/2021 - 17:44</td>\n",
       "    </tr>\n",
       "    <tr>\n",
       "      <th>112</th>\n",
       "      <td>&lt;ul&gt;\\n&lt;li&gt;&lt;a href=\"https://www.greateratlantic...</td>\n",
       "      <td>&lt;ul&gt;\\n&lt;li&gt;Monkfish live on the ocean floor, ty...</td>\n",
       "      <td>Area closures and gear restrictions protect ha...</td>\n",
       "      <td>[{'src': 'https://origin-east-01-drupal-fishwa...</td>\n",
       "      <td>&lt;ul&gt;\\n&lt;li&gt;Monkfish are found in the Northwest ...</td>\n",
       "      <td>None</td>\n",
       "      <td>Greater Atlantic, Southeast</td>\n",
       "      <td>Above target population levels.</td>\n",
       "      <td>&lt;ul&gt;\\n&lt;li&gt;There are two stocks of monkfish: Gu...</td>\n",
       "      <td>Lophius americanus</td>\n",
       "      <td>...</td>\n",
       "      <td>36.5 mcg</td>\n",
       "      <td>100 g (raw)</td>\n",
       "      <td>1</td>\n",
       "      <td>18 mg</td>\n",
       "      <td>&lt;p&gt;U.S. wild-caught from Maine to North Caroli...</td>\n",
       "      <td>0 g</td>\n",
       "      <td>&lt;p&gt;Mild.&lt;/p&gt;\\n</td>\n",
       "      <td>&lt;p&gt;The tail meat is firm, dense, and relativel...</td>\n",
       "      <td>/profiles/monkfish</td>\n",
       "      <td>08/10/2022 - 17:32</td>\n",
       "    </tr>\n",
       "    <tr>\n",
       "      <th>113</th>\n",
       "      <td>&lt;ul&gt;\\n&lt;li&gt;&lt;a href=\"http://sero.nmfs.noaa.gov/\"...</td>\n",
       "      <td>&lt;ul&gt;\\n&lt;li&gt;Mahi mahi live near the surface in t...</td>\n",
       "      <td>Fishing gear used to catch mahi mahi rarely co...</td>\n",
       "      <td>[{'src': 'https://origin-east-01-drupal-fishwa...</td>\n",
       "      <td>&lt;ul&gt;\\n&lt;li&gt;Mahi mahi are found in the Atlantic,...</td>\n",
       "      <td>None</td>\n",
       "      <td>Greater Atlantic, Southeast</td>\n",
       "      <td>Above target population levels.</td>\n",
       "      <td>&lt;ul&gt;\\n&lt;li&gt;Scientists assume populations are ab...</td>\n",
       "      <td>Coryphaena hippurus</td>\n",
       "      <td>...</td>\n",
       "      <td>36.5 mcg</td>\n",
       "      <td>100 g (raw)</td>\n",
       "      <td>1</td>\n",
       "      <td>88 mg</td>\n",
       "      <td>&lt;p&gt;Wild-caught from Massachusetts to Texas.&lt;/p&gt;\\n</td>\n",
       "      <td>0 g</td>\n",
       "      <td>&lt;p&gt;Mahi mahi has a sweet, mild flavor. For a m...</td>\n",
       "      <td>&lt;p&gt;Mahi mahi is lean and fairly firm with larg...</td>\n",
       "      <td>/profiles/atlantic-mahi-mahi</td>\n",
       "      <td>08/03/2022 - 16:19</td>\n",
       "    </tr>\n",
       "    <tr>\n",
       "      <th>114</th>\n",
       "      <td>&lt;ul&gt;\\n&lt;li&gt;&lt;a href=\"https://sero.nmfs.noaa.gov/...</td>\n",
       "      <td>&lt;ul&gt;\\n&lt;li&gt;Cobia are found near structures in t...</td>\n",
       "      <td>Fishing gear used to catch cobia rarely contac...</td>\n",
       "      <td>[{'src': 'https://origin-east-01-drupal-fishwa...</td>\n",
       "      <td>&lt;ul&gt;\\n&lt;li&gt;In U.S. waters, cobia are most abund...</td>\n",
       "      <td>None</td>\n",
       "      <td>Greater Atlantic, Southeast</td>\n",
       "      <td>Below target level but fishing rate promotes p...</td>\n",
       "      <td>&lt;ul&gt;\\n&lt;li&gt;\\n&lt;p&gt;According to the 2020 stock ass...</td>\n",
       "      <td>Rachycentron canadum</td>\n",
       "      <td>...</td>\n",
       "      <td>36.5 mcg</td>\n",
       "      <td>100 g (raw)</td>\n",
       "      <td>1</td>\n",
       "      <td>135 mg</td>\n",
       "      <td>&lt;p&gt;Wild-caught from Virginia to Texas. Cobia i...</td>\n",
       "      <td>0 g</td>\n",
       "      <td>&lt;p&gt;Cobia has a sweet, rich flavor.&lt;/p&gt;\\n</td>\n",
       "      <td>&lt;p&gt;Cobia is lean, moist, and firm with a nice ...</td>\n",
       "      <td>/profiles/cobia</td>\n",
       "      <td>02/17/2022 - 11:28</td>\n",
       "    </tr>\n",
       "    <tr>\n",
       "      <th>115</th>\n",
       "      <td>&lt;ul&gt;\\n&lt;li&gt;There are two stocks of Atlantic cod...</td>\n",
       "      <td>&lt;ul&gt;\\n&lt;li&gt;Atlantic cod live near the ocean flo...</td>\n",
       "      <td>Area closures and gear restrictions protect ha...</td>\n",
       "      <td>[{'src': 'https://origin-east-01-drupal-fishwa...</td>\n",
       "      <td>&lt;ul&gt;\\n&lt;li&gt;In the Northwest Atlantic, cod range...</td>\n",
       "      <td>None</td>\n",
       "      <td>Greater Atlantic</td>\n",
       "      <td>Significantly below target population levels. ...</td>\n",
       "      <td>&lt;ul&gt;\\n&lt;li&gt;Gulf of Maine stock:\\n&lt;ul&gt;\\n&lt;li&gt;Acco...</td>\n",
       "      <td>Gadus morhua</td>\n",
       "      <td>...</td>\n",
       "      <td>33.1 mcg</td>\n",
       "      <td>100 g</td>\n",
       "      <td>1</td>\n",
       "      <td>54 mg</td>\n",
       "      <td>&lt;p&gt;Wild-caught from Maine to Virginia.&lt;/p&gt;\\n</td>\n",
       "      <td>0 g</td>\n",
       "      <td>&lt;p&gt;Atlantic cod has a mild clean flavor. It is...</td>\n",
       "      <td>&lt;p&gt;Cod has large flakes. It's less firm than h...</td>\n",
       "      <td>/profiles/atlantic-cod</td>\n",
       "      <td>02/17/2022 - 12:56</td>\n",
       "    </tr>\n",
       "  </tbody>\n",
       "</table>\n",
       "<p>116 rows × 56 columns</p>\n",
       "</div>"
      ],
      "text/plain": [
       "                                    Fishery Management  \\\n",
       "0    <ul>\\n<li><a href=\"https://www.fisheries.noaa....   \n",
       "1    <ul>\\n<li><a href=\"https://www.fisheries.noaa....   \n",
       "2    <ul>\\n<li>\\n<p><a href=\"https://archive.fisher...   \n",
       "3    <ul>\\n<li><a href=\"https://www.fisheries.noaa....   \n",
       "4    <ul>\\n<li>The states and <a href=\"https://www....   \n",
       "..                                                 ...   \n",
       "111  <ul>\\n<li><a href=\"https://www.fisheries.noaa....   \n",
       "112  <ul>\\n<li><a href=\"https://www.greateratlantic...   \n",
       "113  <ul>\\n<li><a href=\"http://sero.nmfs.noaa.gov/\"...   \n",
       "114  <ul>\\n<li><a href=\"https://sero.nmfs.noaa.gov/...   \n",
       "115  <ul>\\n<li>There are two stocks of Atlantic cod...   \n",
       "\n",
       "                                               Habitat  \\\n",
       "0                                                 None   \n",
       "1    <ul>\\n<li>White hake are groundfish, meaning t...   \n",
       "2    <ul>\\n<li>Atlantic chub mackerel are a schooli...   \n",
       "3    <ul>\\n<li>Shortfin squid live in deep and shal...   \n",
       "4    <ul>\\n<li>American lobsters live on the ocean ...   \n",
       "..                                                 ...   \n",
       "111  <ul>\\n<li>Younger pollock live in the mid-wate...   \n",
       "112  <ul>\\n<li>Monkfish live on the ocean floor, ty...   \n",
       "113  <ul>\\n<li>Mahi mahi live near the surface in t...   \n",
       "114  <ul>\\n<li>Cobia are found near structures in t...   \n",
       "115  <ul>\\n<li>Atlantic cod live near the ocean flo...   \n",
       "\n",
       "                                       Habitat Impacts  \\\n",
       "0    Bottomfish fishing operations, typically using...   \n",
       "1    Area closures and gear restrictions protect ha...   \n",
       "2    Area closures and gear restrictions protect ha...   \n",
       "3    Fishing gears used to harvest shortfin squid h...   \n",
       "4    Fishing gears used to harvest American lobster...   \n",
       "..                                                 ...   \n",
       "111  The Alaska pollock fishery uses midwater trawl...   \n",
       "112  Area closures and gear restrictions protect ha...   \n",
       "113  Fishing gear used to catch mahi mahi rarely co...   \n",
       "114  Fishing gear used to catch cobia rarely contac...   \n",
       "115  Area closures and gear restrictions protect ha...   \n",
       "\n",
       "                                         Image Gallery  \\\n",
       "0    [{'src': 'https://origin-east-01-drupal-fishwa...   \n",
       "1    [{'src': 'https://origin-east-01-drupal-fishwa...   \n",
       "2    [{'src': 'https://origin-east-01-drupal-fishwa...   \n",
       "3                                                 None   \n",
       "4    [{'src': 'https://origin-east-01-drupal-fishwa...   \n",
       "..                                                 ...   \n",
       "111  [{'src': 'https://origin-east-01-drupal-fishwa...   \n",
       "112  [{'src': 'https://origin-east-01-drupal-fishwa...   \n",
       "113  [{'src': 'https://origin-east-01-drupal-fishwa...   \n",
       "114  [{'src': 'https://origin-east-01-drupal-fishwa...   \n",
       "115  [{'src': 'https://origin-east-01-drupal-fishwa...   \n",
       "\n",
       "                                              Location Management  \\\n",
       "0    <ul>\\n<li>Crimson jobfish are distributed thro...       None   \n",
       "1    <ul>\\n<li>White hake are found in the northwes...       None   \n",
       "2    <ul>\\n<li>Atlantic chub mackerel in the wester...       None   \n",
       "3    <ul>\\n<li>Shortfin squid inhabits the continen...       None   \n",
       "4    <ul>\\n<li>American lobsters are found in the n...       None   \n",
       "..                                                 ...        ...   \n",
       "111  <ul>\\n<li>Alaska pollock are found throughout ...       None   \n",
       "112  <ul>\\n<li>Monkfish are found in the Northwest ...       None   \n",
       "113  <ul>\\n<li>Mahi mahi are found in the Atlantic,...       None   \n",
       "114  <ul>\\n<li>In U.S. waters, cobia are most abund...       None   \n",
       "115  <ul>\\n<li>In the Northwest Atlantic, cod range...       None   \n",
       "\n",
       "           NOAA Fisheries Region  \\\n",
       "0                Pacific Islands   \n",
       "1               Greater Atlantic   \n",
       "2               Greater Atlantic   \n",
       "3               Greater Atlantic   \n",
       "4               Greater Atlantic   \n",
       "..                           ...   \n",
       "111                       Alaska   \n",
       "112  Greater Atlantic, Southeast   \n",
       "113  Greater Atlantic, Southeast   \n",
       "114  Greater Atlantic, Southeast   \n",
       "115             Greater Atlantic   \n",
       "\n",
       "                                            Population  \\\n",
       "0    The population level is unknown, but the stock...   \n",
       "1    Significantly below target population level. A...   \n",
       "2     The stock has never been assessed. The popula...   \n",
       "3    The population level is unknown. The species h...   \n",
       "4    Above target population levels in the Gulf of ...   \n",
       "..                                                 ...   \n",
       "111  Above target population levels for the Aleutia...   \n",
       "112                    Above target population levels.   \n",
       "113                    Above target population levels.   \n",
       "114  Below target level but fishing rate promotes p...   \n",
       "115  Significantly below target population levels. ...   \n",
       "\n",
       "                                     Population Status  \\\n",
       "0    <ul>\\n<li>There are five stocks of crimson job...   \n",
       "1    <ul>\\n<li>According to the 2019 stock assessme...   \n",
       "2    <p>Atlantic chub mackerel has never been asses...   \n",
       "3    <ul>\\n<li>According to the latest assessment (...   \n",
       "4    <ul>\\n<li>According to the 2020&nbsp;<a href=\"...   \n",
       "..                                                 ...   \n",
       "111  <ul>\\n<li>There are five stocks of walleye pol...   \n",
       "112  <ul>\\n<li>There are two stocks of monkfish: Gu...   \n",
       "113  <ul>\\n<li>Scientists assume populations are ab...   \n",
       "114  <ul>\\n<li>\\n<p>According to the 2020 stock ass...   \n",
       "115  <ul>\\n<li>Gulf of Maine stock:\\n<ul>\\n<li>Acco...   \n",
       "\n",
       "                 Scientific Name  ...  Selenium Serving Weight Servings  \\\n",
       "0    Pristipomoides filamentosus  ...  38.2 mcg    100 g (raw)        1   \n",
       "1               Urophycis tenuis  ...  32.1 mcg    100 g (raw)        1   \n",
       "2                 Scomber colias  ...  44.1 mcg    100 g (raw)        1   \n",
       "3             Illex illecebrosus  ...  44.8 mcg          100 g        1   \n",
       "4             Homarus americanus  ...  41.4 mcg    100 g (raw)        1   \n",
       "..                           ...  ...       ...            ...      ...   \n",
       "111          Gadus chalcogrammus  ...  21.9 mcg    100 g (raw)        1   \n",
       "112           Lophius americanus  ...  36.5 mcg    100 g (raw)        1   \n",
       "113          Coryphaena hippurus  ...  36.5 mcg    100 g (raw)        1   \n",
       "114         Rachycentron canadum  ...  36.5 mcg    100 g (raw)        1   \n",
       "115                 Gadus morhua  ...  33.1 mcg          100 g        1   \n",
       "\n",
       "     Sodium                                             Source Sugars, Total  \\\n",
       "0     64 mg  <p>U.S -wild caught around Hawaii and Pacific ...           0 g   \n",
       "1     72 mg  <p>White hake is wild-caught from Maine to sou...           0 g   \n",
       "2     90 mg  <p>U.S. wild caught from Southern New England ...           0 g   \n",
       "3     44 mg  <p>U.S. wild-caught from Maine to North Caroli...           0 g   \n",
       "4    296 mg  <p>U.S. wild-caught from Maine to North Caroli...           0 g   \n",
       "..      ...                                                ...           ...   \n",
       "111   99 mg  <p>U.S. wild-caught, mainly in the Bering Sea ...           0 g   \n",
       "112   18 mg  <p>U.S. wild-caught from Maine to North Caroli...           0 g   \n",
       "113   88 mg  <p>Wild-caught from Massachusetts to Texas.</p>\\n           0 g   \n",
       "114  135 mg  <p>Wild-caught from Virginia to Texas. Cobia i...           0 g   \n",
       "115   54 mg       <p>Wild-caught from Maine to Virginia.</p>\\n           0 g   \n",
       "\n",
       "                                                 Taste  \\\n",
       "0      <p>Crimson jobfish has a delicate flavor.</p>\\n   \n",
       "1    <p>White hake has a mild, almost sweet&nbsp;ta...   \n",
       "2                    <p>Rich, pronounced flavor.</p>\\n   \n",
       "3      <p>Mild, and subtly sweet.</p>\\n<p>&nbsp;</p>\\n   \n",
       "4                             <p>Mild and sweet.</p>\\n   \n",
       "..                                                 ...   \n",
       "111  <p>Pollock has mild-tasting flesh and is simil...   \n",
       "112                                     <p>Mild.</p>\\n   \n",
       "113  <p>Mahi mahi has a sweet, mild flavor. For a m...   \n",
       "114           <p>Cobia has a sweet, rich flavor.</p>\\n   \n",
       "115  <p>Atlantic cod has a mild clean flavor. It is...   \n",
       "\n",
       "                                               Texture  \\\n",
       "0    <p>Crimson jobfish has&nbsp;a firm texture and...   \n",
       "1    <p>White hake has a soft, delicate texture tha...   \n",
       "2                     <p>Soft, flaky, and moist.</p>\\n   \n",
       "3                             <p>Firm and meaty.</p>\\n   \n",
       "4    <p>The meat is firm and somewhat fibrous. The ...   \n",
       "..                                                 ...   \n",
       "111  <p>Pollock has a relatively fine texture and i...   \n",
       "112  <p>The tail meat is firm, dense, and relativel...   \n",
       "113  <p>Mahi mahi is lean and fairly firm with larg...   \n",
       "114  <p>Cobia is lean, moist, and firm with a nice ...   \n",
       "115  <p>Cod has large flakes. It's less firm than h...   \n",
       "\n",
       "                                 Path         last_update  \n",
       "0           /profiles/crimson-jobfish  06/21/2022 - 12:00  \n",
       "1                /profiles/white-hake  03/24/2022 - 10:36  \n",
       "2    /profiles/atlantic-chub-mackerel  08/11/2022 - 16:16  \n",
       "3            /profiles/shortfin-squid  09/02/2022 - 11:08  \n",
       "4          /profiles/american-lobster  01/07/2022 - 10:44  \n",
       "..                                ...                 ...  \n",
       "111          /profiles/alaska-pollock  08/24/2021 - 17:44  \n",
       "112                /profiles/monkfish  08/10/2022 - 17:32  \n",
       "113      /profiles/atlantic-mahi-mahi  08/03/2022 - 16:19  \n",
       "114                   /profiles/cobia  02/17/2022 - 11:28  \n",
       "115            /profiles/atlantic-cod  02/17/2022 - 12:56  \n",
       "\n",
       "[116 rows x 56 columns]"
      ]
     },
     "execution_count": 67,
     "metadata": {},
     "output_type": "execute_result"
    }
   ],
   "source": [
    "# Convertir json data en pandas data frame\n",
    "results2 = pd.DataFrame(results2)\n",
    "results2"
   ]
  },
  {
   "cell_type": "code",
   "execution_count": 69,
   "id": "99ff0ec7",
   "metadata": {},
   "outputs": [],
   "source": [
    "#Review questions \n"
   ]
  },
  {
   "cell_type": "code",
   "execution_count": 70,
   "id": "2de2273f",
   "metadata": {},
   "outputs": [
    {
     "data": {
      "text/plain": [
       "array([0, 0, 0, 0, 0])"
      ]
     },
     "execution_count": 70,
     "metadata": {},
     "output_type": "execute_result"
    }
   ],
   "source": [
    "#Q1 What is the result of the following lines of code:\n",
    "a=np.array([0,1,0,1,0])\n",
    "\n",
    "b=np.array([1,0,1,0,1])\n",
    "\n",
    "a*b"
   ]
  },
  {
   "cell_type": "code",
   "execution_count": null,
   "id": "6454780e",
   "metadata": {},
   "outputs": [],
   "source": [
    "# RESP : array([0, 0, 0, 0, 0])"
   ]
  },
  {
   "cell_type": "code",
   "execution_count": 71,
   "id": "8193569e",
   "metadata": {},
   "outputs": [
    {
     "data": {
      "text/plain": [
       "0"
      ]
     },
     "execution_count": 71,
     "metadata": {},
     "output_type": "execute_result"
    }
   ],
   "source": [
    "#$Q2 What is the result of the following lines of code:\n",
    "a=np.array([0,1])\n",
    "\n",
    "b=np.array([1,0])\n",
    "\n",
    "np.dot(a,b)\n",
    "\n",
    "\n"
   ]
  },
  {
   "cell_type": "code",
   "execution_count": 72,
   "id": "4a6737bd",
   "metadata": {},
   "outputs": [
    {
     "data": {
      "text/plain": [
       "array([11, 11, 11, 11, 11])"
      ]
     },
     "execution_count": 72,
     "metadata": {},
     "output_type": "execute_result"
    }
   ],
   "source": [
    "#Q3 What is the result of the following lines of code:\n",
    "a=np.array([1,1,1,1,1])\n",
    "\n",
    "a+10\n",
    "\n",
    "\n"
   ]
  },
  {
   "cell_type": "code",
   "execution_count": null,
   "id": "6fb9f9be",
   "metadata": {},
   "outputs": [],
   "source": [
    "#RESP : array([11, 11, 11, 11, 11])"
   ]
  },
  {
   "cell_type": "code",
   "execution_count": null,
   "id": "be01601c",
   "metadata": {},
   "outputs": [],
   "source": [
    "# What is the correct code to perform matrix multiplication on the matrix A and B?:\n"
   ]
  },
  {
   "cell_type": "code",
   "execution_count": 73,
   "id": "116f0773",
   "metadata": {},
   "outputs": [
    {
     "data": {
      "text/plain": [
       "array([[ 1,  4],\n",
       "       [ 5, 12],\n",
       "       [ 9, 20]])"
      ]
     },
     "execution_count": 73,
     "metadata": {},
     "output_type": "execute_result"
    }
   ],
   "source": [
    "np.dot(A,B)"
   ]
  },
  {
   "cell_type": "code",
   "execution_count": null,
   "id": "6d34b159",
   "metadata": {},
   "outputs": [],
   "source": []
  },
  {
   "cell_type": "code",
   "execution_count": null,
   "id": "17b0e3e6",
   "metadata": {},
   "outputs": [],
   "source": []
  }
 ],
 "metadata": {
  "kernelspec": {
   "display_name": "Python 3 (ipykernel)",
   "language": "python",
   "name": "python3"
  },
  "language_info": {
   "codemirror_mode": {
    "name": "ipython",
    "version": 3
   },
   "file_extension": ".py",
   "mimetype": "text/x-python",
   "name": "python",
   "nbconvert_exporter": "python",
   "pygments_lexer": "ipython3",
   "version": "3.10.4"
  }
 },
 "nbformat": 4,
 "nbformat_minor": 5
}

{
 "cells": [
  {
   "cell_type": "markdown",
   "id": "ddc356f7",
   "metadata": {},
   "source": [
    "## Semana 8: Data Analysis with Python (IBM)\n",
    "\n",
    "## Profesor : Jobish Vallikavungal Devassia\n",
    "\n",
    "## Materia   : Ciencia y analítica de datos\n",
    "\n",
    "### Kevin Alejandro Garcia Escalante                                    A01376680\n",
    "\n",
    "\n",
    "### Fecha : 9 de Noviembre de 2022 "
   ]
  },
  {
   "cell_type": "markdown",
   "id": "4d02e277",
   "metadata": {},
   "source": [
    "### LAB Model Evaluation and Refinement (External resource)"
   ]
  },
  {
   "cell_type": "code",
   "execution_count": 2,
   "id": "42c8135c",
   "metadata": {},
   "outputs": [],
   "source": [
    "import pandas as pd\n",
    "import numpy as np\n"
   ]
  },
  {
   "cell_type": "code",
   "execution_count": 11,
   "id": "42a57550",
   "metadata": {},
   "outputs": [],
   "source": [
    "path = 'https://cf-courses-data.s3.us.cloud-object-storage.appdomain.cloud/IBMDeveloperSkillsNetwork-DA0101EN-SkillsNetwork/labs/Data%20files/module_5_auto.csv'\n"
   ]
  },
  {
   "cell_type": "code",
   "execution_count": 17,
   "id": "c0dd29d2",
   "metadata": {},
   "outputs": [],
   "source": [
    "y_data = df['price']\n",
    "x_data=df.drop('price',axis=1)"
   ]
  },
  {
   "cell_type": "code",
   "execution_count": 18,
   "id": "f1d40eb7",
   "metadata": {},
   "outputs": [
    {
     "name": "stdout",
     "output_type": "stream",
     "text": [
      "number of test samples : 21\n",
      "number of training samples: 180\n"
     ]
    }
   ],
   "source": [
    "from sklearn.model_selection import train_test_split\n",
    "\n",
    "\n",
    "x_train, x_test, y_train, y_test = train_test_split(x_data, y_data, test_size=0.10, random_state=1)\n",
    "\n",
    "\n",
    "print(\"number of test samples :\", x_test.shape[0])\n",
    "print(\"number of training samples:\",x_train.shape[0])\n"
   ]
  },
  {
   "cell_type": "code",
   "execution_count": 19,
   "id": "2c4b9187",
   "metadata": {},
   "outputs": [],
   "source": [
    "df = pd.read_csv(path)"
   ]
  },
  {
   "cell_type": "markdown",
   "id": "247cd36f",
   "metadata": {},
   "source": [
    "Question #1):¶\n",
    "Use the function \"train_test_split\" to split up the dataset such that 40% of the data samples will be utilized for testing. Set the parameter \"random_state\" equal to zero. The output of the function should be the following: \"x_train1\" , \"x_test1\", \"y_train1\" and \"y_test1\"."
   ]
  },
  {
   "cell_type": "code",
   "execution_count": 22,
   "id": "fed0d633",
   "metadata": {},
   "outputs": [
    {
     "name": "stdout",
     "output_type": "stream",
     "text": [
      "number of test samples : 81\n",
      "number of training samples: 120\n"
     ]
    }
   ],
   "source": [
    "x_train1, x_test1, y_train1, y_test1 = train_test_split(x_data, y_data, test_size=0.4, random_state=0) \n",
    "print(\"number of test samples :\", x_test1.shape[0])\n",
    "print(\"number of training samples:\",x_train1.shape[0])"
   ]
  },
  {
   "cell_type": "markdown",
   "id": "8bf2ccda",
   "metadata": {},
   "source": [
    "Question #2): \n",
    "Find the R^2 on the test data using 40% of the dataset for testing."
   ]
  },
  {
   "cell_type": "code",
   "execution_count": 26,
   "id": "4f0588cc",
   "metadata": {},
   "outputs": [],
   "source": [
    "from sklearn.linear_model import LinearRegression\n",
    "lre=LinearRegression()"
   ]
  },
  {
   "cell_type": "code",
   "execution_count": 27,
   "id": "385ae833",
   "metadata": {},
   "outputs": [
    {
     "data": {
      "text/plain": [
       "0.7139364665406973"
      ]
     },
     "execution_count": 27,
     "metadata": {},
     "output_type": "execute_result"
    }
   ],
   "source": [
    "x_train1, x_test1, y_train1, y_test1 = train_test_split(x_data, y_data, test_size=0.4, random_state=0)\n",
    "lre.fit(x_train1[['horsepower']],y_train1)\n",
    "lre.score(x_test1[['horsepower']],y_test1)"
   ]
  },
  {
   "cell_type": "markdown",
   "id": "c81ddc0a",
   "metadata": {},
   "source": [
    "Question #3): ¶\n",
    "Calculate the average R^2 using two folds, then find the average R^2 for the second fold utilizing the \"horsepower\" feature:"
   ]
  },
  {
   "cell_type": "code",
   "execution_count": 28,
   "id": "b1370b53",
   "metadata": {},
   "outputs": [],
   "source": [
    "from sklearn.model_selection import cross_val_score"
   ]
  },
  {
   "cell_type": "code",
   "execution_count": 29,
   "id": "2ae88928",
   "metadata": {},
   "outputs": [],
   "source": [
    "Rcross = cross_val_score(lre, x_data[['horsepower']], y_data, cv=4)"
   ]
  },
  {
   "cell_type": "code",
   "execution_count": 30,
   "id": "030c5cc5",
   "metadata": {},
   "outputs": [
    {
     "data": {
      "text/plain": [
       "array([0.7746232 , 0.51716687, 0.74785353, 0.04839605])"
      ]
     },
     "execution_count": 30,
     "metadata": {},
     "output_type": "execute_result"
    }
   ],
   "source": [
    "Rcross"
   ]
  },
  {
   "cell_type": "code",
   "execution_count": 31,
   "id": "d77f10aa",
   "metadata": {},
   "outputs": [
    {
     "data": {
      "text/plain": [
       "0.5166761697127429"
      ]
     },
     "execution_count": 31,
     "metadata": {},
     "output_type": "execute_result"
    }
   ],
   "source": [
    "Rc=cross_val_score(lre,x_data[['horsepower']], y_data,cv=2)\n",
    "Rc.mean()"
   ]
  },
  {
   "cell_type": "markdown",
   "id": "ee2de918",
   "metadata": {},
   "source": [
    "Question #4a):\n",
    "We can perform polynomial transformations with more than one feature. Create a \"PolynomialFeatures\" object \"pr1\" of degree two."
   ]
  },
  {
   "cell_type": "code",
   "execution_count": 40,
   "id": "050a0a7a",
   "metadata": {},
   "outputs": [],
   "source": [
    "from sklearn.preprocessing import PolynomialFeatures"
   ]
  },
  {
   "cell_type": "code",
   "execution_count": 42,
   "id": "6af6ea5f",
   "metadata": {},
   "outputs": [
    {
     "data": {
      "text/html": [
       "<style>#sk-container-id-1 {color: black;background-color: white;}#sk-container-id-1 pre{padding: 0;}#sk-container-id-1 div.sk-toggleable {background-color: white;}#sk-container-id-1 label.sk-toggleable__label {cursor: pointer;display: block;width: 100%;margin-bottom: 0;padding: 0.3em;box-sizing: border-box;text-align: center;}#sk-container-id-1 label.sk-toggleable__label-arrow:before {content: \"▸\";float: left;margin-right: 0.25em;color: #696969;}#sk-container-id-1 label.sk-toggleable__label-arrow:hover:before {color: black;}#sk-container-id-1 div.sk-estimator:hover label.sk-toggleable__label-arrow:before {color: black;}#sk-container-id-1 div.sk-toggleable__content {max-height: 0;max-width: 0;overflow: hidden;text-align: left;background-color: #f0f8ff;}#sk-container-id-1 div.sk-toggleable__content pre {margin: 0.2em;color: black;border-radius: 0.25em;background-color: #f0f8ff;}#sk-container-id-1 input.sk-toggleable__control:checked~div.sk-toggleable__content {max-height: 200px;max-width: 100%;overflow: auto;}#sk-container-id-1 input.sk-toggleable__control:checked~label.sk-toggleable__label-arrow:before {content: \"▾\";}#sk-container-id-1 div.sk-estimator input.sk-toggleable__control:checked~label.sk-toggleable__label {background-color: #d4ebff;}#sk-container-id-1 div.sk-label input.sk-toggleable__control:checked~label.sk-toggleable__label {background-color: #d4ebff;}#sk-container-id-1 input.sk-hidden--visually {border: 0;clip: rect(1px 1px 1px 1px);clip: rect(1px, 1px, 1px, 1px);height: 1px;margin: -1px;overflow: hidden;padding: 0;position: absolute;width: 1px;}#sk-container-id-1 div.sk-estimator {font-family: monospace;background-color: #f0f8ff;border: 1px dotted black;border-radius: 0.25em;box-sizing: border-box;margin-bottom: 0.5em;}#sk-container-id-1 div.sk-estimator:hover {background-color: #d4ebff;}#sk-container-id-1 div.sk-parallel-item::after {content: \"\";width: 100%;border-bottom: 1px solid gray;flex-grow: 1;}#sk-container-id-1 div.sk-label:hover label.sk-toggleable__label {background-color: #d4ebff;}#sk-container-id-1 div.sk-serial::before {content: \"\";position: absolute;border-left: 1px solid gray;box-sizing: border-box;top: 0;bottom: 0;left: 50%;z-index: 0;}#sk-container-id-1 div.sk-serial {display: flex;flex-direction: column;align-items: center;background-color: white;padding-right: 0.2em;padding-left: 0.2em;position: relative;}#sk-container-id-1 div.sk-item {position: relative;z-index: 1;}#sk-container-id-1 div.sk-parallel {display: flex;align-items: stretch;justify-content: center;background-color: white;position: relative;}#sk-container-id-1 div.sk-item::before, #sk-container-id-1 div.sk-parallel-item::before {content: \"\";position: absolute;border-left: 1px solid gray;box-sizing: border-box;top: 0;bottom: 0;left: 50%;z-index: -1;}#sk-container-id-1 div.sk-parallel-item {display: flex;flex-direction: column;z-index: 1;position: relative;background-color: white;}#sk-container-id-1 div.sk-parallel-item:first-child::after {align-self: flex-end;width: 50%;}#sk-container-id-1 div.sk-parallel-item:last-child::after {align-self: flex-start;width: 50%;}#sk-container-id-1 div.sk-parallel-item:only-child::after {width: 0;}#sk-container-id-1 div.sk-dashed-wrapped {border: 1px dashed gray;margin: 0 0.4em 0.5em 0.4em;box-sizing: border-box;padding-bottom: 0.4em;background-color: white;}#sk-container-id-1 div.sk-label label {font-family: monospace;font-weight: bold;display: inline-block;line-height: 1.2em;}#sk-container-id-1 div.sk-label-container {text-align: center;}#sk-container-id-1 div.sk-container {/* jupyter's `normalize.less` sets `[hidden] { display: none; }` but bootstrap.min.css set `[hidden] { display: none !important; }` so we also need the `!important` here to be able to override the default hidden behavior on the sphinx rendered scikit-learn.org. See: https://github.com/scikit-learn/scikit-learn/issues/21755 */display: inline-block !important;position: relative;}#sk-container-id-1 div.sk-text-repr-fallback {display: none;}</style><div id=\"sk-container-id-1\" class=\"sk-top-container\"><div class=\"sk-text-repr-fallback\"><pre>PolynomialFeatures()</pre><b>In a Jupyter environment, please rerun this cell to show the HTML representation or trust the notebook. <br />On GitHub, the HTML representation is unable to render, please try loading this page with nbviewer.org.</b></div><div class=\"sk-container\" hidden><div class=\"sk-item\"><div class=\"sk-estimator sk-toggleable\"><input class=\"sk-toggleable__control sk-hidden--visually\" id=\"sk-estimator-id-1\" type=\"checkbox\" checked><label for=\"sk-estimator-id-1\" class=\"sk-toggleable__label sk-toggleable__label-arrow\">PolynomialFeatures</label><div class=\"sk-toggleable__content\"><pre>PolynomialFeatures()</pre></div></div></div></div></div>"
      ],
      "text/plain": [
       "PolynomialFeatures()"
      ]
     },
     "execution_count": 42,
     "metadata": {},
     "output_type": "execute_result"
    }
   ],
   "source": [
    "pr1 = PolynomialFeatures(degree=2)\n",
    "pr1"
   ]
  },
  {
   "cell_type": "markdown",
   "id": "3f090094",
   "metadata": {},
   "source": [
    "Question #4b): \n",
    "Transform the training and testing samples for the features 'horsepower', 'curb-weight', 'engine-size' and 'highway-mpg'. Hint: use the method \"fit_transform\"."
   ]
  },
  {
   "cell_type": "code",
   "execution_count": 43,
   "id": "6593a4e2",
   "metadata": {},
   "outputs": [],
   "source": [
    "x_train_pr1=pr1.fit_transform(x_train[['horsepower', 'curb-weight', 'engine-size', 'highway-mpg']])\n",
    "\n",
    "x_test_pr1=pr1.fit_transform(x_test[['horsepower', 'curb-weight', 'engine-size', 'highway-mpg']])"
   ]
  },
  {
   "cell_type": "markdown",
   "id": "83eabb2a",
   "metadata": {},
   "source": [
    "Question #4c): \n",
    "How many dimensions does the new feature have? Hint: use the attribute \"shape\"."
   ]
  },
  {
   "cell_type": "code",
   "execution_count": 44,
   "id": "3addd30d",
   "metadata": {},
   "outputs": [
    {
     "data": {
      "text/plain": [
       "(180, 15)"
      ]
     },
     "execution_count": 44,
     "metadata": {},
     "output_type": "execute_result"
    }
   ],
   "source": [
    "x_train_pr1.shape #there are now 15 features"
   ]
  },
  {
   "cell_type": "markdown",
   "id": "28f81214",
   "metadata": {},
   "source": [
    "Question #4d): \n",
    "Create a linear regression model \"poly1\". Train the object using the method \"fit\" using the polynomial features."
   ]
  },
  {
   "cell_type": "code",
   "execution_count": 45,
   "id": "b75d9adb",
   "metadata": {},
   "outputs": [],
   "source": [
    "poly1=LinearRegression().fit(x_train_pr1,y_train)"
   ]
  },
  {
   "cell_type": "markdown",
   "id": "783cb8bb",
   "metadata": {},
   "source": [
    "Question #4e): \n",
    "Use the method \"predict\" to predict an output on the polynomial features, then use the function \"DistributionPlot\" to display the distribution of the predicted test output vs. the actual test data."
   ]
  },
  {
   "cell_type": "code",
   "execution_count": 53,
   "id": "aa7fd3b3",
   "metadata": {},
   "outputs": [],
   "source": [
    "from sklearn.preprocessing import PolynomialFeatures"
   ]
  },
  {
   "cell_type": "code",
   "execution_count": 54,
   "id": "6e2e6850",
   "metadata": {},
   "outputs": [],
   "source": [
    "def DistributionPlot(RedFunction, BlueFunction, RedName, BlueName, Title):\n",
    "    width = 12\n",
    "    height = 10\n",
    "    plt.figure(figsize=(width, height))\n",
    "\n",
    "    ax1 = sns.distplot(RedFunction, hist=False, color=\"r\", label=RedName)\n",
    "    ax2 = sns.distplot(BlueFunction, hist=False, color=\"b\", label=BlueName, ax=ax1)\n",
    "\n",
    "    plt.title(Title)\n",
    "    plt.xlabel('Price (in dollars)')\n",
    "    plt.ylabel('Proportion of Cars')\n",
    "\n",
    "    plt.show()\n",
    "    plt.close()"
   ]
  },
  {
   "cell_type": "code",
   "execution_count": 56,
   "id": "1768ab81",
   "metadata": {},
   "outputs": [],
   "source": [
    "import matplotlib.pyplot as plt\n",
    "%matplotlib inline\n",
    "import seaborn as sns"
   ]
  },
  {
   "cell_type": "code",
   "execution_count": 57,
   "id": "b0a0cc72",
   "metadata": {},
   "outputs": [
    {
     "name": "stderr",
     "output_type": "stream",
     "text": [
      "/tmp/ipykernel_8303/483544288.py:6: UserWarning: \n",
      "\n",
      "`distplot` is a deprecated function and will be removed in seaborn v0.14.0.\n",
      "\n",
      "Please adapt your code to use either `displot` (a figure-level function with\n",
      "similar flexibility) or `kdeplot` (an axes-level function for kernel density plots).\n",
      "\n",
      "For a guide to updating your code to use the new functions, please see\n",
      "https://gist.github.com/mwaskom/de44147ed2974457ad6372750bbe5751\n",
      "\n",
      "  ax1 = sns.distplot(RedFunction, hist=False, color=\"r\", label=RedName)\n",
      "/tmp/ipykernel_8303/483544288.py:7: UserWarning: \n",
      "\n",
      "`distplot` is a deprecated function and will be removed in seaborn v0.14.0.\n",
      "\n",
      "Please adapt your code to use either `displot` (a figure-level function with\n",
      "similar flexibility) or `kdeplot` (an axes-level function for kernel density plots).\n",
      "\n",
      "For a guide to updating your code to use the new functions, please see\n",
      "https://gist.github.com/mwaskom/de44147ed2974457ad6372750bbe5751\n",
      "\n",
      "  ax2 = sns.distplot(BlueFunction, hist=False, color=\"b\", label=BlueName, ax=ax1)\n"
     ]
    },
    {
     "data": {
      "image/png": "[encoded data removed]",
      "text/plain": [
       "<Figure size 1200x1000 with 1 Axes>"
      ]
     },
     "metadata": {},
     "output_type": "display_data"
    }
   ],
   "source": [
    "yhat_test1=poly1.predict(x_test_pr1)\n",
    "\n",
    "Title='Distribution  Plot of  Predicted Value Using Test Data vs Data Distribution of Test Data'\n",
    "\n",
    "DistributionPlot(y_test, yhat_test1, \"Actual Values (Test)\", \"Predicted Values (Test)\", Title)"
   ]
  },
  {
   "cell_type": "markdown",
   "id": "263a7b1f",
   "metadata": {},
   "source": [
    "Question #4f): \n",
    "Using the distribution plot above, describe (in words) the two regions where the predicted prices are less accurate than the actual prices."
   ]
  },
  {
   "cell_type": "markdown",
   "id": "795f93d0",
   "metadata": {},
   "source": [
    "RESP : Cerca a los 10000 el valor predecido es mayor que el valor actual.El valor predecido es menor entre os 15000 y 20000 que el actual"
   ]
  },
  {
   "cell_type": "markdown",
   "id": "b999f0a8",
   "metadata": {},
   "source": [
    "Question #5): \n",
    "Perform Ridge regression. Calculate the R^2 using the polynomial features, use the training data to train the model and use the test data to test the model. The parameter alpha should be set to 10."
   ]
  },
  {
   "cell_type": "code",
   "execution_count": 67,
   "id": "77a36afc",
   "metadata": {},
   "outputs": [],
   "source": [
    "from sklearn.linear_model import Ridge"
   ]
  },
  {
   "cell_type": "code",
   "execution_count": 71,
   "id": "1199f30b",
   "metadata": {},
   "outputs": [],
   "source": [
    "pr=PolynomialFeatures(degree=2)\n",
    "x_train_pr=pr.fit_transform(x_train[['horsepower', 'curb-weight', 'engine-size', 'highway-mpg','normalized-losses','symboling']])\n",
    "x_test_pr=pr.fit_transform(x_test[['horsepower', 'curb-weight', 'engine-size', 'highway-mpg','normalized-losses','symboling']])"
   ]
  },
  {
   "cell_type": "code",
   "execution_count": 72,
   "id": "cbcad80a",
   "metadata": {},
   "outputs": [
    {
     "data": {
      "text/plain": [
       "0.7066579427638553"
      ]
     },
     "execution_count": 72,
     "metadata": {},
     "output_type": "execute_result"
    }
   ],
   "source": [
    "RigeModel = Ridge(alpha=10) \n",
    "RigeModel.fit(x_train_pr, y_train)\n",
    "RigeModel.score(x_test_pr, y_test)"
   ]
  },
  {
   "cell_type": "markdown",
   "id": "88c33447",
   "metadata": {},
   "source": [
    "## Graded Review Questions"
   ]
  },
  {
   "cell_type": "markdown",
   "id": "2237a951",
   "metadata": {},
   "source": [
    "In the following plot, the vertical axis shows the mean square error and the horizontal axis represents the order of the polynomial. The red line represents the training error the blue line is the test error. What is the best order of the polynomial given the possible choices in the horizontal axis?"
   ]
  },
  {
   "cell_type": "markdown",
   "id": "3c2ad021",
   "metadata": {},
   "source": [
    "RESP : 8"
   ]
  },
  {
   "cell_type": "markdown",
   "id": "049db459",
   "metadata": {},
   "source": [
    "What is the correct use of the \"train_test_split\" function such that 40% of the data samples will be utilized for testing; the parameter \"random_state\" is set to zero; and the input variables for the features and targets are_data, y_data respectively?"
   ]
  },
  {
   "cell_type": "markdown",
   "id": "3e0d9f85",
   "metadata": {},
   "source": [
    "RESP : train_test_split(x_data, y_data, test_size=0.4, random_state=0)"
   ]
  },
  {
   "cell_type": "markdown",
   "id": "ce262e01",
   "metadata": {},
   "source": [
    "What is the output of cross_val_score(lre, x_data, y_data, cv=2)?"
   ]
  },
  {
   "cell_type": "raw",
   "id": "70ad021c",
   "metadata": {},
   "source": [
    "RESP : The average R^2 on the test data for each of the two folds."
   ]
  },
  {
   "cell_type": "markdown",
   "id": "f78c8288",
   "metadata": {},
   "source": [
    "What is the code to create a ridge regression object \"RR\" with an alpha term equal 10?"
   ]
  },
  {
   "cell_type": "markdown",
   "id": "174273e9",
   "metadata": {},
   "source": [
    "RESP : RR=Ridge(alpha=10)"
   ]
  },
  {
   "cell_type": "markdown",
   "id": "9998117c",
   "metadata": {},
   "source": [
    "What dictionary value would we use to perform a grid search for the following values of alpha: 1,10, 100? No other parameter values should be tested."
   ]
  },
  {
   "cell_type": "markdown",
   "id": "922f6616",
   "metadata": {},
   "source": [
    "RESP : [{'alpha': [1,10,100]}]"
   ]
  },
  {
   "cell_type": "code",
   "execution_count": null,
   "id": "1ba18782",
   "metadata": {},
   "outputs": [],
   "source": []
  }
 ],
 "metadata": {
  "kernelspec": {
   "display_name": "Python 3 (ipykernel)",
   "language": "python",
   "name": "python3"
  },
  "language_info": {
   "codemirror_mode": {
    "name": "ipython",
    "version": 3
   },
   "file_extension": ".py",
   "mimetype": "text/x-python",
   "name": "python",
   "nbconvert_exporter": "python",
   "pygments_lexer": "ipython3",
   "version": "3.10.4"
  }
 },
 "nbformat": 4,
 "nbformat_minor": 5
}
